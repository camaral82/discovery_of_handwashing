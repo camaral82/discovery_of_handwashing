{
 "cells": [
  {
   "cell_type": "markdown",
   "metadata": {},
   "source": [
    "#### 19/Sep/2019\n",
    "\n",
    "#### Carlos H. S. Amaral - self study"
   ]
  },
  {
   "cell_type": "markdown",
   "metadata": {
    "dc": {
     "key": "3"
    },
    "deletable": false,
    "editable": false,
    "run_control": {
     "frozen": true
    },
    "tags": [
     "context"
    ]
   },
   "source": [
    "## 1. Meet Dr. Ignaz Semmelweis\n",
    "<p><img style=\"float: left;margin:5px 20px 5px 1px\" src=\"https://assets.datacamp.com/production/project_49/img/ignaz_semmelweis_1860.jpeg\"></p>\n",
    "<!--\n",
    "<img style=\"float: left;margin:5px 20px 5px 1px\" src=\"https://assets.datacamp.com/production/project_49/datasets/ignaz_semmelweis_1860.jpeg\">\n",
    "-->\n",
    "<p>This is Dr. Ignaz Semmelweis, a Hungarian physician born in 1818 and active at the Vienna General Hospital. If Dr. Semmelweis looks troubled it's probably because he's thinking about <em>childbed fever</em>: A deadly disease affecting women that just have given birth. He is thinking about it because in the early 1840s at the Vienna General Hospital as many as 10% of the women giving birth die from it. He is thinking about it because he knows the cause of childbed fever: It's the contaminated hands of the doctors delivering the babies. And they won't listen to him and <em>wash their hands</em>!</p>\n",
    "<p>In this notebook, we're going to reanalyze the data that made Semmelweis discover the importance of <em>handwashing</em>. Let's start by looking at the data that made Semmelweis realize that something was wrong with the procedures at Vienna General Hospital.</p>"
   ]
  },
  {
   "cell_type": "code",
   "execution_count": 1,
   "metadata": {
    "dc": {
     "key": "3"
    },
    "tags": [
     "sample_code"
    ]
   },
   "outputs": [
    {
     "name": "stderr",
     "output_type": "stream",
     "text": [
      "Registered S3 methods overwritten by 'ggplot2':\n",
      "  method         from \n",
      "  [.quosures     rlang\n",
      "  c.quosures     rlang\n",
      "  print.quosures rlang\n",
      "Registered S3 method overwritten by 'rvest':\n",
      "  method            from\n",
      "  read_xml.response xml2\n",
      "-- \u001b[1mAttaching packages\u001b[22m --------------------------------------- tidyverse 1.2.1 --\n",
      "\u001b[32mv\u001b[39m \u001b[34mggplot2\u001b[39m 3.1.1       \u001b[32mv\u001b[39m \u001b[34mpurrr  \u001b[39m 0.3.2  \n",
      "\u001b[32mv\u001b[39m \u001b[34mtibble \u001b[39m 2.1.1       \u001b[32mv\u001b[39m \u001b[34mdplyr  \u001b[39m 0.8.0.\u001b[31m1\u001b[39m\n",
      "\u001b[32mv\u001b[39m \u001b[34mtidyr  \u001b[39m 0.8.3       \u001b[32mv\u001b[39m \u001b[34mstringr\u001b[39m 1.4.0  \n",
      "\u001b[32mv\u001b[39m \u001b[34mreadr  \u001b[39m 1.3.1       \u001b[32mv\u001b[39m \u001b[34mforcats\u001b[39m 0.4.0  \n",
      "-- \u001b[1mConflicts\u001b[22m ------------------------------------------ tidyverse_conflicts() --\n",
      "\u001b[31mx\u001b[39m \u001b[34mdplyr\u001b[39m::\u001b[32mfilter()\u001b[39m masks \u001b[34mstats\u001b[39m::filter()\n",
      "\u001b[31mx\u001b[39m \u001b[34mdplyr\u001b[39m::\u001b[32mlag()\u001b[39m    masks \u001b[34mstats\u001b[39m::lag()\n",
      "Parsed with column specification:\n",
      "cols(\n",
      "  year = \u001b[32mcol_double()\u001b[39m,\n",
      "  births = \u001b[32mcol_double()\u001b[39m,\n",
      "  deaths = \u001b[32mcol_double()\u001b[39m,\n",
      "  clinic = \u001b[31mcol_character()\u001b[39m\n",
      ")\n"
     ]
    },
    {
     "data": {
      "text/html": [
       "<table>\n",
       "<caption>A spec_tbl_df: 12 × 4</caption>\n",
       "<thead>\n",
       "\t<tr><th scope=col>year</th><th scope=col>births</th><th scope=col>deaths</th><th scope=col>clinic</th></tr>\n",
       "\t<tr><th scope=col>&lt;dbl&gt;</th><th scope=col>&lt;dbl&gt;</th><th scope=col>&lt;dbl&gt;</th><th scope=col>&lt;chr&gt;</th></tr>\n",
       "</thead>\n",
       "<tbody>\n",
       "\t<tr><td>1841</td><td>3036</td><td>237</td><td>clinic 1</td></tr>\n",
       "\t<tr><td>1842</td><td>3287</td><td>518</td><td>clinic 1</td></tr>\n",
       "\t<tr><td>1843</td><td>3060</td><td>274</td><td>clinic 1</td></tr>\n",
       "\t<tr><td>1844</td><td>3157</td><td>260</td><td>clinic 1</td></tr>\n",
       "\t<tr><td>1845</td><td>3492</td><td>241</td><td>clinic 1</td></tr>\n",
       "\t<tr><td>1846</td><td>4010</td><td>459</td><td>clinic 1</td></tr>\n",
       "\t<tr><td>1841</td><td>2442</td><td> 86</td><td>clinic 2</td></tr>\n",
       "\t<tr><td>1842</td><td>2659</td><td>202</td><td>clinic 2</td></tr>\n",
       "\t<tr><td>1843</td><td>2739</td><td>164</td><td>clinic 2</td></tr>\n",
       "\t<tr><td>1844</td><td>2956</td><td> 68</td><td>clinic 2</td></tr>\n",
       "\t<tr><td>1845</td><td>3241</td><td> 66</td><td>clinic 2</td></tr>\n",
       "\t<tr><td>1846</td><td>3754</td><td>105</td><td>clinic 2</td></tr>\n",
       "</tbody>\n",
       "</table>\n"
      ],
      "text/latex": [
       "A spec_tbl_df: 12 × 4\n",
       "\\begin{tabular}{r|llll}\n",
       " year & births & deaths & clinic\\\\\n",
       " <dbl> & <dbl> & <dbl> & <chr>\\\\\n",
       "\\hline\n",
       "\t 1841 & 3036 & 237 & clinic 1\\\\\n",
       "\t 1842 & 3287 & 518 & clinic 1\\\\\n",
       "\t 1843 & 3060 & 274 & clinic 1\\\\\n",
       "\t 1844 & 3157 & 260 & clinic 1\\\\\n",
       "\t 1845 & 3492 & 241 & clinic 1\\\\\n",
       "\t 1846 & 4010 & 459 & clinic 1\\\\\n",
       "\t 1841 & 2442 &  86 & clinic 2\\\\\n",
       "\t 1842 & 2659 & 202 & clinic 2\\\\\n",
       "\t 1843 & 2739 & 164 & clinic 2\\\\\n",
       "\t 1844 & 2956 &  68 & clinic 2\\\\\n",
       "\t 1845 & 3241 &  66 & clinic 2\\\\\n",
       "\t 1846 & 3754 & 105 & clinic 2\\\\\n",
       "\\end{tabular}\n"
      ],
      "text/markdown": [
       "\n",
       "A spec_tbl_df: 12 × 4\n",
       "\n",
       "| year &lt;dbl&gt; | births &lt;dbl&gt; | deaths &lt;dbl&gt; | clinic &lt;chr&gt; |\n",
       "|---|---|---|---|\n",
       "| 1841 | 3036 | 237 | clinic 1 |\n",
       "| 1842 | 3287 | 518 | clinic 1 |\n",
       "| 1843 | 3060 | 274 | clinic 1 |\n",
       "| 1844 | 3157 | 260 | clinic 1 |\n",
       "| 1845 | 3492 | 241 | clinic 1 |\n",
       "| 1846 | 4010 | 459 | clinic 1 |\n",
       "| 1841 | 2442 |  86 | clinic 2 |\n",
       "| 1842 | 2659 | 202 | clinic 2 |\n",
       "| 1843 | 2739 | 164 | clinic 2 |\n",
       "| 1844 | 2956 |  68 | clinic 2 |\n",
       "| 1845 | 3241 |  66 | clinic 2 |\n",
       "| 1846 | 3754 | 105 | clinic 2 |\n",
       "\n"
      ],
      "text/plain": [
       "   year births deaths clinic  \n",
       "1  1841 3036   237    clinic 1\n",
       "2  1842 3287   518    clinic 1\n",
       "3  1843 3060   274    clinic 1\n",
       "4  1844 3157   260    clinic 1\n",
       "5  1845 3492   241    clinic 1\n",
       "6  1846 4010   459    clinic 1\n",
       "7  1841 2442    86    clinic 2\n",
       "8  1842 2659   202    clinic 2\n",
       "9  1843 2739   164    clinic 2\n",
       "10 1844 2956    68    clinic 2\n",
       "11 1845 3241    66    clinic 2\n",
       "12 1846 3754   105    clinic 2"
      ]
     },
     "metadata": {},
     "output_type": "display_data"
    }
   ],
   "source": [
    "# Load in the tidyverse package\n",
    "library(tidyverse)\n",
    "\n",
    "# Read datasets/yearly_deaths_by_clinic.csv into yearly\n",
    "yearly <- read_csv(\"datasets/yearly_deaths_by_clinic.csv\")\n",
    "\n",
    "# Print out yearly\n",
    "yearly"
   ]
  },
  {
   "cell_type": "markdown",
   "metadata": {
    "dc": {
     "key": "45ea098e15"
    },
    "deletable": false,
    "editable": false,
    "run_control": {
     "frozen": true
    },
    "tags": [
     "context"
    ]
   },
   "source": [
    "## 2. The alarming number of deaths\n",
    "<p>The table above shows the number of women giving birth at the two clinics at the Vienna General Hospital for the years 1841 to 1846. You'll notice that giving birth was very dangerous; an <em>alarming</em> number of women died as the result of childbirth, most of them from childbed fever.</p>\n",
    "<p>We see this more clearly if we look at the <em>proportion of deaths</em> out of the number of women giving birth. </p>"
   ]
  },
  {
   "cell_type": "code",
   "execution_count": 2,
   "metadata": {
    "dc": {
     "key": "45ea098e15"
    },
    "tags": [
     "sample_code"
    ]
   },
   "outputs": [
    {
     "data": {
      "text/html": [
       "<table>\n",
       "<caption>A spec_tbl_df: 12 × 5</caption>\n",
       "<thead>\n",
       "\t<tr><th scope=col>year</th><th scope=col>births</th><th scope=col>deaths</th><th scope=col>clinic</th><th scope=col>proportion_deaths</th></tr>\n",
       "\t<tr><th scope=col>&lt;dbl&gt;</th><th scope=col>&lt;dbl&gt;</th><th scope=col>&lt;dbl&gt;</th><th scope=col>&lt;chr&gt;</th><th scope=col>&lt;dbl&gt;</th></tr>\n",
       "</thead>\n",
       "<tbody>\n",
       "\t<tr><td>1841</td><td>3036</td><td>237</td><td>clinic 1</td><td>0.07806324</td></tr>\n",
       "\t<tr><td>1842</td><td>3287</td><td>518</td><td>clinic 1</td><td>0.15759051</td></tr>\n",
       "\t<tr><td>1843</td><td>3060</td><td>274</td><td>clinic 1</td><td>0.08954248</td></tr>\n",
       "\t<tr><td>1844</td><td>3157</td><td>260</td><td>clinic 1</td><td>0.08235667</td></tr>\n",
       "\t<tr><td>1845</td><td>3492</td><td>241</td><td>clinic 1</td><td>0.06901489</td></tr>\n",
       "\t<tr><td>1846</td><td>4010</td><td>459</td><td>clinic 1</td><td>0.11446384</td></tr>\n",
       "\t<tr><td>1841</td><td>2442</td><td> 86</td><td>clinic 2</td><td>0.03521704</td></tr>\n",
       "\t<tr><td>1842</td><td>2659</td><td>202</td><td>clinic 2</td><td>0.07596841</td></tr>\n",
       "\t<tr><td>1843</td><td>2739</td><td>164</td><td>clinic 2</td><td>0.05987587</td></tr>\n",
       "\t<tr><td>1844</td><td>2956</td><td> 68</td><td>clinic 2</td><td>0.02300406</td></tr>\n",
       "\t<tr><td>1845</td><td>3241</td><td> 66</td><td>clinic 2</td><td>0.02036409</td></tr>\n",
       "\t<tr><td>1846</td><td>3754</td><td>105</td><td>clinic 2</td><td>0.02797017</td></tr>\n",
       "</tbody>\n",
       "</table>\n"
      ],
      "text/latex": [
       "A spec_tbl_df: 12 × 5\n",
       "\\begin{tabular}{r|lllll}\n",
       " year & births & deaths & clinic & proportion\\_deaths\\\\\n",
       " <dbl> & <dbl> & <dbl> & <chr> & <dbl>\\\\\n",
       "\\hline\n",
       "\t 1841 & 3036 & 237 & clinic 1 & 0.07806324\\\\\n",
       "\t 1842 & 3287 & 518 & clinic 1 & 0.15759051\\\\\n",
       "\t 1843 & 3060 & 274 & clinic 1 & 0.08954248\\\\\n",
       "\t 1844 & 3157 & 260 & clinic 1 & 0.08235667\\\\\n",
       "\t 1845 & 3492 & 241 & clinic 1 & 0.06901489\\\\\n",
       "\t 1846 & 4010 & 459 & clinic 1 & 0.11446384\\\\\n",
       "\t 1841 & 2442 &  86 & clinic 2 & 0.03521704\\\\\n",
       "\t 1842 & 2659 & 202 & clinic 2 & 0.07596841\\\\\n",
       "\t 1843 & 2739 & 164 & clinic 2 & 0.05987587\\\\\n",
       "\t 1844 & 2956 &  68 & clinic 2 & 0.02300406\\\\\n",
       "\t 1845 & 3241 &  66 & clinic 2 & 0.02036409\\\\\n",
       "\t 1846 & 3754 & 105 & clinic 2 & 0.02797017\\\\\n",
       "\\end{tabular}\n"
      ],
      "text/markdown": [
       "\n",
       "A spec_tbl_df: 12 × 5\n",
       "\n",
       "| year &lt;dbl&gt; | births &lt;dbl&gt; | deaths &lt;dbl&gt; | clinic &lt;chr&gt; | proportion_deaths &lt;dbl&gt; |\n",
       "|---|---|---|---|---|\n",
       "| 1841 | 3036 | 237 | clinic 1 | 0.07806324 |\n",
       "| 1842 | 3287 | 518 | clinic 1 | 0.15759051 |\n",
       "| 1843 | 3060 | 274 | clinic 1 | 0.08954248 |\n",
       "| 1844 | 3157 | 260 | clinic 1 | 0.08235667 |\n",
       "| 1845 | 3492 | 241 | clinic 1 | 0.06901489 |\n",
       "| 1846 | 4010 | 459 | clinic 1 | 0.11446384 |\n",
       "| 1841 | 2442 |  86 | clinic 2 | 0.03521704 |\n",
       "| 1842 | 2659 | 202 | clinic 2 | 0.07596841 |\n",
       "| 1843 | 2739 | 164 | clinic 2 | 0.05987587 |\n",
       "| 1844 | 2956 |  68 | clinic 2 | 0.02300406 |\n",
       "| 1845 | 3241 |  66 | clinic 2 | 0.02036409 |\n",
       "| 1846 | 3754 | 105 | clinic 2 | 0.02797017 |\n",
       "\n"
      ],
      "text/plain": [
       "   year births deaths clinic   proportion_deaths\n",
       "1  1841 3036   237    clinic 1 0.07806324       \n",
       "2  1842 3287   518    clinic 1 0.15759051       \n",
       "3  1843 3060   274    clinic 1 0.08954248       \n",
       "4  1844 3157   260    clinic 1 0.08235667       \n",
       "5  1845 3492   241    clinic 1 0.06901489       \n",
       "6  1846 4010   459    clinic 1 0.11446384       \n",
       "7  1841 2442    86    clinic 2 0.03521704       \n",
       "8  1842 2659   202    clinic 2 0.07596841       \n",
       "9  1843 2739   164    clinic 2 0.05987587       \n",
       "10 1844 2956    68    clinic 2 0.02300406       \n",
       "11 1845 3241    66    clinic 2 0.02036409       \n",
       "12 1846 3754   105    clinic 2 0.02797017       "
      ]
     },
     "metadata": {},
     "output_type": "display_data"
    }
   ],
   "source": [
    "# Adding a new column to yearly with proportion of deaths per no. births\n",
    "yearly <- yearly %>% mutate(proportion_deaths = deaths/births)\n",
    "\n",
    "# Print out yearly\n",
    "yearly"
   ]
  },
  {
   "cell_type": "markdown",
   "metadata": {
    "dc": {
     "key": "2bc9206960"
    },
    "deletable": false,
    "editable": false,
    "run_control": {
     "frozen": true
    },
    "tags": [
     "context"
    ]
   },
   "source": [
    "## 3. Death at the clinics\n",
    "<p>If we now plot the proportion of deaths at both clinic 1 and clinic 2  we'll see a curious pattern...</p>"
   ]
  },
  {
   "cell_type": "code",
   "execution_count": 3,
   "metadata": {
    "dc": {
     "key": "2bc9206960"
    },
    "tags": [
     "sample_code"
    ]
   },
   "outputs": [
    {
     "data": {
      "image/png": "[encoded data removed]",
      "text/plain": [
       "plot without title"
      ]
     },
     "metadata": {},
     "output_type": "display_data"
    }
   ],
   "source": [
    "# Setting the size of plots in this notebook\n",
    "options(repr.plot.width=7, repr.plot.height=4)\n",
    "\n",
    "# Plot yearly proportion of deaths at the two clinics\n",
    "ggplot(yearly, aes(x = year, y = proportion_deaths, color = clinic)) + \n",
    "geom_line()"
   ]
  },
  {
   "cell_type": "markdown",
   "metadata": {
    "dc": {
     "key": "0c9fdbf550"
    },
    "deletable": false,
    "editable": false,
    "run_control": {
     "frozen": true
    },
    "tags": [
     "context"
    ]
   },
   "source": [
    "## 4. The handwashing begins\n",
    "<p>Why is the proportion of deaths constantly so much higher in Clinic 1? Semmelweis saw the same pattern and was puzzled and distressed. The only difference between the clinics was that many medical students served at Clinic 1, while mostly midwife students served at Clinic 2. While the midwives only tended to the women giving birth, the medical students also spent time in the autopsy rooms examining corpses. </p>\n",
    "<p>Semmelweis started to suspect that something on the corpses, spread from the hands of the medical students, caused childbed fever. So in a desperate attempt to stop the high mortality rates, he decreed: <em>Wash your hands!</em> This was an unorthodox and controversial request, nobody in Vienna knew about bacteria at this point in time. </p>\n",
    "<p>Let's load in monthly data from Clinic 1 to see if the handwashing had any effect.</p>"
   ]
  },
  {
   "cell_type": "code",
   "execution_count": 4,
   "metadata": {
    "dc": {
     "key": "0c9fdbf550"
    },
    "tags": [
     "sample_code"
    ]
   },
   "outputs": [
    {
     "name": "stderr",
     "output_type": "stream",
     "text": [
      "Parsed with column specification:\n",
      "cols(\n",
      "  date = \u001b[34mcol_date(format = \"\")\u001b[39m,\n",
      "  births = \u001b[32mcol_double()\u001b[39m,\n",
      "  deaths = \u001b[32mcol_double()\u001b[39m\n",
      ")\n"
     ]
    },
    {
     "data": {
      "text/html": [
       "<table>\n",
       "<caption>A spec_tbl_df: 98 × 4</caption>\n",
       "<thead>\n",
       "\t<tr><th scope=col>date</th><th scope=col>births</th><th scope=col>deaths</th><th scope=col>proportion_deaths</th></tr>\n",
       "\t<tr><th scope=col>&lt;date&gt;</th><th scope=col>&lt;dbl&gt;</th><th scope=col>&lt;dbl&gt;</th><th scope=col>&lt;dbl&gt;</th></tr>\n",
       "</thead>\n",
       "<tbody>\n",
       "\t<tr><td>1841-01-01</td><td>254</td><td>37</td><td>0.145669291</td></tr>\n",
       "\t<tr><td>1841-02-01</td><td>239</td><td>18</td><td>0.075313808</td></tr>\n",
       "\t<tr><td>1841-03-01</td><td>277</td><td>12</td><td>0.043321300</td></tr>\n",
       "\t<tr><td>1841-04-01</td><td>255</td><td> 4</td><td>0.015686275</td></tr>\n",
       "\t<tr><td>1841-05-01</td><td>255</td><td> 2</td><td>0.007843137</td></tr>\n",
       "\t<tr><td>1841-06-01</td><td>200</td><td>10</td><td>0.050000000</td></tr>\n",
       "\t<tr><td>1841-07-01</td><td>190</td><td>16</td><td>0.084210526</td></tr>\n",
       "\t<tr><td>1841-08-01</td><td>222</td><td> 3</td><td>0.013513514</td></tr>\n",
       "\t<tr><td>1841-09-01</td><td>213</td><td> 4</td><td>0.018779343</td></tr>\n",
       "\t<tr><td>1841-10-01</td><td>236</td><td>26</td><td>0.110169492</td></tr>\n",
       "\t<tr><td>1841-11-01</td><td>235</td><td>53</td><td>0.225531915</td></tr>\n",
       "\t<tr><td>1842-01-01</td><td>307</td><td>64</td><td>0.208469055</td></tr>\n",
       "\t<tr><td>1842-02-01</td><td>311</td><td>38</td><td>0.122186495</td></tr>\n",
       "\t<tr><td>1842-03-01</td><td>264</td><td>27</td><td>0.102272727</td></tr>\n",
       "\t<tr><td>1842-04-01</td><td>242</td><td>26</td><td>0.107438017</td></tr>\n",
       "\t<tr><td>1842-05-01</td><td>310</td><td>10</td><td>0.032258065</td></tr>\n",
       "\t<tr><td>1842-06-01</td><td>273</td><td>18</td><td>0.065934066</td></tr>\n",
       "\t<tr><td>1842-07-01</td><td>231</td><td>48</td><td>0.207792208</td></tr>\n",
       "\t<tr><td>1842-08-01</td><td>216</td><td>55</td><td>0.254629630</td></tr>\n",
       "\t<tr><td>1842-09-01</td><td>223</td><td>41</td><td>0.183856502</td></tr>\n",
       "\t<tr><td>1842-10-01</td><td>242</td><td>71</td><td>0.293388430</td></tr>\n",
       "\t<tr><td>1842-11-01</td><td>209</td><td>48</td><td>0.229665072</td></tr>\n",
       "\t<tr><td>1842-12-01</td><td>239</td><td>75</td><td>0.313807531</td></tr>\n",
       "\t<tr><td>1843-01-01</td><td>272</td><td>52</td><td>0.191176471</td></tr>\n",
       "\t<tr><td>1843-02-01</td><td>263</td><td>42</td><td>0.159695817</td></tr>\n",
       "\t<tr><td>1843-03-01</td><td>266</td><td>33</td><td>0.124060150</td></tr>\n",
       "\t<tr><td>1843-04-01</td><td>285</td><td>34</td><td>0.119298246</td></tr>\n",
       "\t<tr><td>1843-05-01</td><td>246</td><td>15</td><td>0.060975610</td></tr>\n",
       "\t<tr><td>1843-06-01</td><td>196</td><td> 8</td><td>0.040816327</td></tr>\n",
       "\t<tr><td>1843-07-01</td><td>191</td><td> 1</td><td>0.005235602</td></tr>\n",
       "\t<tr><td>...</td><td>...</td><td>...</td><td>...</td></tr>\n",
       "\t<tr><td>1846-10-01</td><td>254</td><td>38</td><td>0.149606299</td></tr>\n",
       "\t<tr><td>1846-11-01</td><td>297</td><td>32</td><td>0.107744108</td></tr>\n",
       "\t<tr><td>1846-12-01</td><td>298</td><td>16</td><td>0.053691275</td></tr>\n",
       "\t<tr><td>1847-01-01</td><td>311</td><td>10</td><td>0.032154341</td></tr>\n",
       "\t<tr><td>1847-02-01</td><td>312</td><td> 6</td><td>0.019230769</td></tr>\n",
       "\t<tr><td>1847-03-01</td><td>305</td><td>11</td><td>0.036065574</td></tr>\n",
       "\t<tr><td>1847-04-01</td><td>312</td><td>57</td><td>0.182692308</td></tr>\n",
       "\t<tr><td>1847-05-01</td><td>294</td><td>36</td><td>0.122448980</td></tr>\n",
       "\t<tr><td>1847-06-01</td><td>268</td><td> 6</td><td>0.022388060</td></tr>\n",
       "\t<tr><td>1847-07-01</td><td>250</td><td> 3</td><td>0.012000000</td></tr>\n",
       "\t<tr><td>1847-08-01</td><td>264</td><td> 5</td><td>0.018939394</td></tr>\n",
       "\t<tr><td>1847-09-01</td><td>262</td><td>12</td><td>0.045801527</td></tr>\n",
       "\t<tr><td>1847-10-01</td><td>278</td><td>11</td><td>0.039568345</td></tr>\n",
       "\t<tr><td>1847-11-01</td><td>246</td><td>11</td><td>0.044715447</td></tr>\n",
       "\t<tr><td>1847-12-01</td><td>273</td><td> 8</td><td>0.029304029</td></tr>\n",
       "\t<tr><td>1848-01-01</td><td>283</td><td>10</td><td>0.035335689</td></tr>\n",
       "\t<tr><td>1848-02-01</td><td>291</td><td> 2</td><td>0.006872852</td></tr>\n",
       "\t<tr><td>1848-03-01</td><td>276</td><td> 0</td><td>0.000000000</td></tr>\n",
       "\t<tr><td>1848-04-01</td><td>305</td><td> 2</td><td>0.006557377</td></tr>\n",
       "\t<tr><td>1848-05-01</td><td>313</td><td> 3</td><td>0.009584665</td></tr>\n",
       "\t<tr><td>1848-06-01</td><td>264</td><td> 3</td><td>0.011363636</td></tr>\n",
       "\t<tr><td>1848-07-01</td><td>269</td><td> 1</td><td>0.003717472</td></tr>\n",
       "\t<tr><td>1848-08-01</td><td>261</td><td> 0</td><td>0.000000000</td></tr>\n",
       "\t<tr><td>1848-09-01</td><td>312</td><td> 3</td><td>0.009615385</td></tr>\n",
       "\t<tr><td>1848-10-01</td><td>299</td><td> 7</td><td>0.023411371</td></tr>\n",
       "\t<tr><td>1848-11-01</td><td>310</td><td> 9</td><td>0.029032258</td></tr>\n",
       "\t<tr><td>1848-12-01</td><td>373</td><td> 5</td><td>0.013404826</td></tr>\n",
       "\t<tr><td>1849-01-01</td><td>403</td><td> 9</td><td>0.022332506</td></tr>\n",
       "\t<tr><td>1849-02-01</td><td>389</td><td>12</td><td>0.030848329</td></tr>\n",
       "\t<tr><td>1849-03-01</td><td>406</td><td>20</td><td>0.049261084</td></tr>\n",
       "</tbody>\n",
       "</table>\n"
      ],
      "text/latex": [
       "A spec_tbl_df: 98 × 4\n",
       "\\begin{tabular}{r|llll}\n",
       " date & births & deaths & proportion\\_deaths\\\\\n",
       " <date> & <dbl> & <dbl> & <dbl>\\\\\n",
       "\\hline\n",
       "\t 1841-01-01 & 254 & 37 & 0.145669291\\\\\n",
       "\t 1841-02-01 & 239 & 18 & 0.075313808\\\\\n",
       "\t 1841-03-01 & 277 & 12 & 0.043321300\\\\\n",
       "\t 1841-04-01 & 255 &  4 & 0.015686275\\\\\n",
       "\t 1841-05-01 & 255 &  2 & 0.007843137\\\\\n",
       "\t 1841-06-01 & 200 & 10 & 0.050000000\\\\\n",
       "\t 1841-07-01 & 190 & 16 & 0.084210526\\\\\n",
       "\t 1841-08-01 & 222 &  3 & 0.013513514\\\\\n",
       "\t 1841-09-01 & 213 &  4 & 0.018779343\\\\\n",
       "\t 1841-10-01 & 236 & 26 & 0.110169492\\\\\n",
       "\t 1841-11-01 & 235 & 53 & 0.225531915\\\\\n",
       "\t 1842-01-01 & 307 & 64 & 0.208469055\\\\\n",
       "\t 1842-02-01 & 311 & 38 & 0.122186495\\\\\n",
       "\t 1842-03-01 & 264 & 27 & 0.102272727\\\\\n",
       "\t 1842-04-01 & 242 & 26 & 0.107438017\\\\\n",
       "\t 1842-05-01 & 310 & 10 & 0.032258065\\\\\n",
       "\t 1842-06-01 & 273 & 18 & 0.065934066\\\\\n",
       "\t 1842-07-01 & 231 & 48 & 0.207792208\\\\\n",
       "\t 1842-08-01 & 216 & 55 & 0.254629630\\\\\n",
       "\t 1842-09-01 & 223 & 41 & 0.183856502\\\\\n",
       "\t 1842-10-01 & 242 & 71 & 0.293388430\\\\\n",
       "\t 1842-11-01 & 209 & 48 & 0.229665072\\\\\n",
       "\t 1842-12-01 & 239 & 75 & 0.313807531\\\\\n",
       "\t 1843-01-01 & 272 & 52 & 0.191176471\\\\\n",
       "\t 1843-02-01 & 263 & 42 & 0.159695817\\\\\n",
       "\t 1843-03-01 & 266 & 33 & 0.124060150\\\\\n",
       "\t 1843-04-01 & 285 & 34 & 0.119298246\\\\\n",
       "\t 1843-05-01 & 246 & 15 & 0.060975610\\\\\n",
       "\t 1843-06-01 & 196 &  8 & 0.040816327\\\\\n",
       "\t 1843-07-01 & 191 &  1 & 0.005235602\\\\\n",
       "\t ... & ... & ... & ...\\\\\n",
       "\t 1846-10-01 & 254 & 38 & 0.149606299\\\\\n",
       "\t 1846-11-01 & 297 & 32 & 0.107744108\\\\\n",
       "\t 1846-12-01 & 298 & 16 & 0.053691275\\\\\n",
       "\t 1847-01-01 & 311 & 10 & 0.032154341\\\\\n",
       "\t 1847-02-01 & 312 &  6 & 0.019230769\\\\\n",
       "\t 1847-03-01 & 305 & 11 & 0.036065574\\\\\n",
       "\t 1847-04-01 & 312 & 57 & 0.182692308\\\\\n",
       "\t 1847-05-01 & 294 & 36 & 0.122448980\\\\\n",
       "\t 1847-06-01 & 268 &  6 & 0.022388060\\\\\n",
       "\t 1847-07-01 & 250 &  3 & 0.012000000\\\\\n",
       "\t 1847-08-01 & 264 &  5 & 0.018939394\\\\\n",
       "\t 1847-09-01 & 262 & 12 & 0.045801527\\\\\n",
       "\t 1847-10-01 & 278 & 11 & 0.039568345\\\\\n",
       "\t 1847-11-01 & 246 & 11 & 0.044715447\\\\\n",
       "\t 1847-12-01 & 273 &  8 & 0.029304029\\\\\n",
       "\t 1848-01-01 & 283 & 10 & 0.035335689\\\\\n",
       "\t 1848-02-01 & 291 &  2 & 0.006872852\\\\\n",
       "\t 1848-03-01 & 276 &  0 & 0.000000000\\\\\n",
       "\t 1848-04-01 & 305 &  2 & 0.006557377\\\\\n",
       "\t 1848-05-01 & 313 &  3 & 0.009584665\\\\\n",
       "\t 1848-06-01 & 264 &  3 & 0.011363636\\\\\n",
       "\t 1848-07-01 & 269 &  1 & 0.003717472\\\\\n",
       "\t 1848-08-01 & 261 &  0 & 0.000000000\\\\\n",
       "\t 1848-09-01 & 312 &  3 & 0.009615385\\\\\n",
       "\t 1848-10-01 & 299 &  7 & 0.023411371\\\\\n",
       "\t 1848-11-01 & 310 &  9 & 0.029032258\\\\\n",
       "\t 1848-12-01 & 373 &  5 & 0.013404826\\\\\n",
       "\t 1849-01-01 & 403 &  9 & 0.022332506\\\\\n",
       "\t 1849-02-01 & 389 & 12 & 0.030848329\\\\\n",
       "\t 1849-03-01 & 406 & 20 & 0.049261084\\\\\n",
       "\\end{tabular}\n"
      ],
      "text/markdown": [
       "\n",
       "A spec_tbl_df: 98 × 4\n",
       "\n",
       "| date &lt;date&gt; | births &lt;dbl&gt; | deaths &lt;dbl&gt; | proportion_deaths &lt;dbl&gt; |\n",
       "|---|---|---|---|\n",
       "| 1841-01-01 | 254 | 37 | 0.145669291 |\n",
       "| 1841-02-01 | 239 | 18 | 0.075313808 |\n",
       "| 1841-03-01 | 277 | 12 | 0.043321300 |\n",
       "| 1841-04-01 | 255 |  4 | 0.015686275 |\n",
       "| 1841-05-01 | 255 |  2 | 0.007843137 |\n",
       "| 1841-06-01 | 200 | 10 | 0.050000000 |\n",
       "| 1841-07-01 | 190 | 16 | 0.084210526 |\n",
       "| 1841-08-01 | 222 |  3 | 0.013513514 |\n",
       "| 1841-09-01 | 213 |  4 | 0.018779343 |\n",
       "| 1841-10-01 | 236 | 26 | 0.110169492 |\n",
       "| 1841-11-01 | 235 | 53 | 0.225531915 |\n",
       "| 1842-01-01 | 307 | 64 | 0.208469055 |\n",
       "| 1842-02-01 | 311 | 38 | 0.122186495 |\n",
       "| 1842-03-01 | 264 | 27 | 0.102272727 |\n",
       "| 1842-04-01 | 242 | 26 | 0.107438017 |\n",
       "| 1842-05-01 | 310 | 10 | 0.032258065 |\n",
       "| 1842-06-01 | 273 | 18 | 0.065934066 |\n",
       "| 1842-07-01 | 231 | 48 | 0.207792208 |\n",
       "| 1842-08-01 | 216 | 55 | 0.254629630 |\n",
       "| 1842-09-01 | 223 | 41 | 0.183856502 |\n",
       "| 1842-10-01 | 242 | 71 | 0.293388430 |\n",
       "| 1842-11-01 | 209 | 48 | 0.229665072 |\n",
       "| 1842-12-01 | 239 | 75 | 0.313807531 |\n",
       "| 1843-01-01 | 272 | 52 | 0.191176471 |\n",
       "| 1843-02-01 | 263 | 42 | 0.159695817 |\n",
       "| 1843-03-01 | 266 | 33 | 0.124060150 |\n",
       "| 1843-04-01 | 285 | 34 | 0.119298246 |\n",
       "| 1843-05-01 | 246 | 15 | 0.060975610 |\n",
       "| 1843-06-01 | 196 |  8 | 0.040816327 |\n",
       "| 1843-07-01 | 191 |  1 | 0.005235602 |\n",
       "| ... | ... | ... | ... |\n",
       "| 1846-10-01 | 254 | 38 | 0.149606299 |\n",
       "| 1846-11-01 | 297 | 32 | 0.107744108 |\n",
       "| 1846-12-01 | 298 | 16 | 0.053691275 |\n",
       "| 1847-01-01 | 311 | 10 | 0.032154341 |\n",
       "| 1847-02-01 | 312 |  6 | 0.019230769 |\n",
       "| 1847-03-01 | 305 | 11 | 0.036065574 |\n",
       "| 1847-04-01 | 312 | 57 | 0.182692308 |\n",
       "| 1847-05-01 | 294 | 36 | 0.122448980 |\n",
       "| 1847-06-01 | 268 |  6 | 0.022388060 |\n",
       "| 1847-07-01 | 250 |  3 | 0.012000000 |\n",
       "| 1847-08-01 | 264 |  5 | 0.018939394 |\n",
       "| 1847-09-01 | 262 | 12 | 0.045801527 |\n",
       "| 1847-10-01 | 278 | 11 | 0.039568345 |\n",
       "| 1847-11-01 | 246 | 11 | 0.044715447 |\n",
       "| 1847-12-01 | 273 |  8 | 0.029304029 |\n",
       "| 1848-01-01 | 283 | 10 | 0.035335689 |\n",
       "| 1848-02-01 | 291 |  2 | 0.006872852 |\n",
       "| 1848-03-01 | 276 |  0 | 0.000000000 |\n",
       "| 1848-04-01 | 305 |  2 | 0.006557377 |\n",
       "| 1848-05-01 | 313 |  3 | 0.009584665 |\n",
       "| 1848-06-01 | 264 |  3 | 0.011363636 |\n",
       "| 1848-07-01 | 269 |  1 | 0.003717472 |\n",
       "| 1848-08-01 | 261 |  0 | 0.000000000 |\n",
       "| 1848-09-01 | 312 |  3 | 0.009615385 |\n",
       "| 1848-10-01 | 299 |  7 | 0.023411371 |\n",
       "| 1848-11-01 | 310 |  9 | 0.029032258 |\n",
       "| 1848-12-01 | 373 |  5 | 0.013404826 |\n",
       "| 1849-01-01 | 403 |  9 | 0.022332506 |\n",
       "| 1849-02-01 | 389 | 12 | 0.030848329 |\n",
       "| 1849-03-01 | 406 | 20 | 0.049261084 |\n",
       "\n"
      ],
      "text/plain": [
       "    date       births deaths proportion_deaths\n",
       "1   1841-01-01 254    37     0.145669291      \n",
       "2   1841-02-01 239    18     0.075313808      \n",
       "3   1841-03-01 277    12     0.043321300      \n",
       "4   1841-04-01 255     4     0.015686275      \n",
       "5   1841-05-01 255     2     0.007843137      \n",
       "6   1841-06-01 200    10     0.050000000      \n",
       "7   1841-07-01 190    16     0.084210526      \n",
       "8   1841-08-01 222     3     0.013513514      \n",
       "9   1841-09-01 213     4     0.018779343      \n",
       "10  1841-10-01 236    26     0.110169492      \n",
       "11  1841-11-01 235    53     0.225531915      \n",
       "12  1842-01-01 307    64     0.208469055      \n",
       "13  1842-02-01 311    38     0.122186495      \n",
       "14  1842-03-01 264    27     0.102272727      \n",
       "15  1842-04-01 242    26     0.107438017      \n",
       "16  1842-05-01 310    10     0.032258065      \n",
       "17  1842-06-01 273    18     0.065934066      \n",
       "18  1842-07-01 231    48     0.207792208      \n",
       "19  1842-08-01 216    55     0.254629630      \n",
       "20  1842-09-01 223    41     0.183856502      \n",
       "21  1842-10-01 242    71     0.293388430      \n",
       "22  1842-11-01 209    48     0.229665072      \n",
       "23  1842-12-01 239    75     0.313807531      \n",
       "24  1843-01-01 272    52     0.191176471      \n",
       "25  1843-02-01 263    42     0.159695817      \n",
       "26  1843-03-01 266    33     0.124060150      \n",
       "27  1843-04-01 285    34     0.119298246      \n",
       "28  1843-05-01 246    15     0.060975610      \n",
       "29  1843-06-01 196     8     0.040816327      \n",
       "30  1843-07-01 191     1     0.005235602      \n",
       "... ...        ...    ...    ...              \n",
       "69  1846-10-01 254    38     0.149606299      \n",
       "70  1846-11-01 297    32     0.107744108      \n",
       "71  1846-12-01 298    16     0.053691275      \n",
       "72  1847-01-01 311    10     0.032154341      \n",
       "73  1847-02-01 312     6     0.019230769      \n",
       "74  1847-03-01 305    11     0.036065574      \n",
       "75  1847-04-01 312    57     0.182692308      \n",
       "76  1847-05-01 294    36     0.122448980      \n",
       "77  1847-06-01 268     6     0.022388060      \n",
       "78  1847-07-01 250     3     0.012000000      \n",
       "79  1847-08-01 264     5     0.018939394      \n",
       "80  1847-09-01 262    12     0.045801527      \n",
       "81  1847-10-01 278    11     0.039568345      \n",
       "82  1847-11-01 246    11     0.044715447      \n",
       "83  1847-12-01 273     8     0.029304029      \n",
       "84  1848-01-01 283    10     0.035335689      \n",
       "85  1848-02-01 291     2     0.006872852      \n",
       "86  1848-03-01 276     0     0.000000000      \n",
       "87  1848-04-01 305     2     0.006557377      \n",
       "88  1848-05-01 313     3     0.009584665      \n",
       "89  1848-06-01 264     3     0.011363636      \n",
       "90  1848-07-01 269     1     0.003717472      \n",
       "91  1848-08-01 261     0     0.000000000      \n",
       "92  1848-09-01 312     3     0.009615385      \n",
       "93  1848-10-01 299     7     0.023411371      \n",
       "94  1848-11-01 310     9     0.029032258      \n",
       "95  1848-12-01 373     5     0.013404826      \n",
       "96  1849-01-01 403     9     0.022332506      \n",
       "97  1849-02-01 389    12     0.030848329      \n",
       "98  1849-03-01 406    20     0.049261084      "
      ]
     },
     "metadata": {},
     "output_type": "display_data"
    }
   ],
   "source": [
    "# Read datasets/monthly_deaths.csv into monthly\n",
    "monthly <- read_csv(\"datasets/monthly_deaths.csv\")\n",
    "\n",
    "# Adding a new column with proportion of deaths per no. births\n",
    "monthly <- monthly %>% mutate(proportion_deaths = deaths/births)\n",
    "\n",
    "# Print out the first rows in monthly\n",
    "monthly"
   ]
  },
  {
   "cell_type": "markdown",
   "metadata": {
    "dc": {
     "key": "2da2a84119"
    },
    "deletable": false,
    "editable": false,
    "run_control": {
     "frozen": true
    },
    "tags": [
     "context"
    ]
   },
   "source": [
    "## 5. The effect of handwashing\n",
    "<p>With the data loaded we can now look at the proportion of deaths over time. In the plot below we haven't marked where obligatory handwashing started, but it reduced the proportion of deaths to such a degree that you should be able to spot it!</p>"
   ]
  },
  {
   "cell_type": "code",
   "execution_count": 5,
   "metadata": {
    "dc": {
     "key": "2da2a84119"
    },
    "tags": [
     "sample_code"
    ]
   },
   "outputs": [
    {
     "data": {
      "image/png": "[encoded data removed]",
      "text/plain": [
       "plot without title"
      ]
     },
     "metadata": {},
     "output_type": "display_data"
    }
   ],
   "source": [
    "# Plot monthly proportion of deaths\n",
    "ggplot(data = monthly, aes(x = date, y = proportion_deaths)) +\n",
    "geom_line() + \n",
    "labs(x = \"Date\", y = \"Proportion of Deaths\")"
   ]
  },
  {
   "cell_type": "markdown",
   "metadata": {
    "dc": {
     "key": "518e95acc5"
    },
    "deletable": false,
    "editable": false,
    "run_control": {
     "frozen": true
    },
    "tags": [
     "context"
    ]
   },
   "source": [
    "## 6. The effect of handwashing highlighted\n",
    "<p>Starting from the summer of 1847 the proportion of deaths is drastically reduced and, yes, this was when Semmelweis made handwashing obligatory. </p>\n",
    "<p>The effect of handwashing is made even more clear if we highlight this in the graph.</p>"
   ]
  },
  {
   "cell_type": "code",
   "execution_count": 6,
   "metadata": {
    "dc": {
     "key": "518e95acc5"
    },
    "tags": [
     "sample_code"
    ]
   },
   "outputs": [
    {
     "data": {
      "image/png": "[encoded data removed]",
      "text/plain": [
       "plot without title"
      ]
     },
     "metadata": {},
     "output_type": "display_data"
    }
   ],
   "source": [
    "# From this date handwashing was made mandatory\n",
    "handwashing_start = as.Date('1847-06-01')\n",
    "\n",
    "# Add a TRUE/FALSE column to monthly called handwashing_started\n",
    "monthly <- monthly %>% \n",
    "mutate(handwashing_started = ifelse(as.Date(date) >= handwashing_start, TRUE, FALSE))\n",
    "\n",
    "# Plot monthly proportion of deaths before and after handwashing\n",
    "ggplot(monthly, aes(date, proportion_deaths, color = handwashing_started)) + \n",
    "geom_line()"
   ]
  },
  {
   "cell_type": "markdown",
   "metadata": {
    "dc": {
     "key": "586a9f9803"
    },
    "deletable": false,
    "editable": false,
    "run_control": {
     "frozen": true
    },
    "tags": [
     "context"
    ]
   },
   "source": [
    "## 7. More handwashing, fewer deaths?\n",
    "<p>Again, the graph shows that handwashing had a huge effect. How much did it reduce the monthly proportion of deaths on average?</p>"
   ]
  },
  {
   "cell_type": "code",
   "execution_count": 7,
   "metadata": {
    "dc": {
     "key": "586a9f9803"
    },
    "tags": [
     "sample_code"
    ]
   },
   "outputs": [
    {
     "data": {
      "text/html": [
       "<table>\n",
       "<caption>A tibble: 2 × 2</caption>\n",
       "<thead>\n",
       "\t<tr><th scope=col>handwashing_started</th><th scope=col>mean(proportion_deaths)</th></tr>\n",
       "\t<tr><th scope=col>&lt;lgl&gt;</th><th scope=col>&lt;dbl&gt;</th></tr>\n",
       "</thead>\n",
       "<tbody>\n",
       "\t<tr><td>FALSE</td><td>0.10504998</td></tr>\n",
       "\t<tr><td> TRUE</td><td>0.02109338</td></tr>\n",
       "</tbody>\n",
       "</table>\n"
      ],
      "text/latex": [
       "A tibble: 2 × 2\n",
       "\\begin{tabular}{r|ll}\n",
       " handwashing\\_started & mean(proportion\\_deaths)\\\\\n",
       " <lgl> & <dbl>\\\\\n",
       "\\hline\n",
       "\t FALSE & 0.10504998\\\\\n",
       "\t  TRUE & 0.02109338\\\\\n",
       "\\end{tabular}\n"
      ],
      "text/markdown": [
       "\n",
       "A tibble: 2 × 2\n",
       "\n",
       "| handwashing_started &lt;lgl&gt; | mean(proportion_deaths) &lt;dbl&gt; |\n",
       "|---|---|\n",
       "| FALSE | 0.10504998 |\n",
       "|  TRUE | 0.02109338 |\n",
       "\n"
      ],
      "text/plain": [
       "  handwashing_started mean(proportion_deaths)\n",
       "1 FALSE               0.10504998             \n",
       "2  TRUE               0.02109338             "
      ]
     },
     "metadata": {},
     "output_type": "display_data"
    }
   ],
   "source": [
    "# Calculating the mean proportion of deaths \n",
    "# before and after handwashing.\n",
    "\n",
    "monthly_summary <- monthly %>% group_by(handwashing_started) %>% \n",
    "summarise(mean(proportion_deaths))\n",
    "\n",
    "# Printing out the summary.\n",
    "monthly_summary"
   ]
  },
  {
   "cell_type": "markdown",
   "metadata": {
    "dc": {
     "key": "d8ff65292a"
    },
    "deletable": false,
    "editable": false,
    "run_control": {
     "frozen": true
    },
    "tags": [
     "context"
    ]
   },
   "source": [
    "## 8. A statistical analysis of Semmelweis handwashing data\n",
    "<p>It reduced the proportion of deaths by around 8 percentage points! From 10% on average before handwashing to just 2% when handwashing was enforced (which is still a high number by modern standards). \n",
    "To get a feeling for the uncertainty around how much handwashing reduces mortalities we could look at a confidence interval (here calculated using a t-test).</p>"
   ]
  },
  {
   "cell_type": "code",
   "execution_count": 8,
   "metadata": {
    "dc": {
     "key": "d8ff65292a"
    },
    "tags": [
     "sample_code"
    ]
   },
   "outputs": [
    {
     "data": {
      "text/plain": [
       "\n",
       "\tWelch Two Sample t-test\n",
       "\n",
       "data:  proportion_deaths by handwashing_started\n",
       "t = 9.6101, df = 92.435, p-value = 1.445e-15\n",
       "alternative hypothesis: true difference in means is not equal to 0\n",
       "95 percent confidence interval:\n",
       " 0.06660662 0.10130659\n",
       "sample estimates:\n",
       "mean in group FALSE  mean in group TRUE \n",
       "         0.10504998          0.02109338 \n"
      ]
     },
     "metadata": {},
     "output_type": "display_data"
    }
   ],
   "source": [
    "# Calculating a 95% Confidence intrerval using t.test \n",
    "test_result <- t.test( proportion_deaths ~ handwashing_started, data = monthly)\n",
    "test_result"
   ]
  },
  {
   "cell_type": "markdown",
   "metadata": {
    "dc": {
     "key": "0645423069"
    },
    "deletable": false,
    "editable": false,
    "run_control": {
     "frozen": true
    },
    "tags": [
     "context"
    ]
   },
   "source": [
    "## 9. The fate of Dr. Semmelweis\n",
    "<p>That the doctors didn't wash their hands increased the proportion of deaths by between 6.7 and 10 percentage points, according to a 95% confidence interval. All in all, it would seem that Semmelweis had solid evidence that handwashing was a simple but highly effective procedure that could save many lives.</p>\n",
    "<p>The tragedy is that, despite the evidence, Semmelweis' theory — that childbed fever was caused by some \"substance\" (what we today know as <em>bacteria</em>) from autopsy room corpses — was ridiculed by contemporary scientists. The medical community largely rejected his discovery and in 1849 he was forced to leave the Vienna General Hospital for good.</p>\n",
    "<p>One reason for this was that statistics and statistical arguments were uncommon in medical science in the 1800s. Semmelweis only published his data as long tables of raw data, but he didn't show any graphs nor confidence intervals. If he would have had access to the analysis we've just put together he might have been more successful in getting the Viennese doctors to wash their hands.</p>"
   ]
  },
  {
   "cell_type": "code",
   "execution_count": 9,
   "metadata": {
    "dc": {
     "key": "0645423069"
    },
    "tags": [
     "sample_code"
    ]
   },
   "outputs": [],
   "source": [
    "# The data Semmelweis collected points to that:\n",
    "doctors_should_wash_their_hands <- TRUE"
   ]
  }
 ],
 "metadata": {
  "kernelspec": {
   "display_name": "R",
   "language": "R",
   "name": "ir"
  },
  "language_info": {
   "codemirror_mode": "r",
   "file_extension": ".r",
   "mimetype": "text/x-r-source",
   "name": "R",
   "pygments_lexer": "r",
   "version": "3.6.0"
  }
 },
 "nbformat": 4,
 "nbformat_minor": 2
}
